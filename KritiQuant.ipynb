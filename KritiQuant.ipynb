{
  "nbformat": 4,
  "nbformat_minor": 0,
  "metadata": {
    "colab": {
      "provenance": [],
      "authorship_tag": "ABX9TyOeLCTEibpl0ZBvqd4jf0dR",
      "include_colab_link": true
    },
    "kernelspec": {
      "name": "python3",
      "display_name": "Python 3"
    },
    "language_info": {
      "name": "python"
    }
  },
  "cells": [
    {
      "cell_type": "markdown",
      "metadata": {
        "id": "view-in-github",
        "colab_type": "text"
      },
      "source": [
        "<a href=\"https://colab.research.google.com/github/Geekomaniac1009/PCR_Trading_Strategy/blob/main/KritiQuant.ipynb\" target=\"_parent\"><img src=\"https://colab.research.google.com/assets/colab-badge.svg\" alt=\"Open In Colab\"/></a>"
      ]
    },
    {
      "cell_type": "code",
      "execution_count": null,
      "metadata": {
        "id": "zXNaHoZl4pgp"
      },
      "outputs": [],
      "source": [
        "pip install yfinance"
      ]
    },
    {
      "cell_type": "code",
      "source": [
        "pip install ta"
      ],
      "metadata": {
        "id": "W5YtSz2rckLq"
      },
      "execution_count": null,
      "outputs": []
    },
    {
      "cell_type": "code",
      "source": [
        "import yfinance as yf\n",
        "import pandas as pd\n",
        "import numpy as np\n",
        "import matplotlib.pyplot as plt\n",
        "from datetime import date"
      ],
      "metadata": {
        "id": "xYHd-gLE4yTd",
        "colab": {
          "base_uri": "https://localhost:8080/"
        },
        "outputId": "01f54801-4420-48c5-f5bb-09687973a25a"
      },
      "execution_count": null,
      "outputs": [
        {
          "output_type": "stream",
          "name": "stderr",
          "text": [
            "/usr/local/lib/python3.10/dist-packages/yfinance/base.py:48: FutureWarning: The default dtype for empty Series will be 'object' instead of 'float64' in a future version. Specify a dtype explicitly to silence this warning.\n",
            "  _empty_series = pd.Series()\n"
          ]
        }
      ]
    },
    {
      "cell_type": "code",
      "source": [
        "def pnl_ratio(signals, share_ratio, num_shares):\n",
        "\n",
        "    initial_cap = 100000\n",
        "\n",
        "\n",
        "    portfolio = pd.DataFrame()\n",
        "    portfolio['holdings'][0] = 0\n",
        "    portfolio['shares'][0] = 0\n",
        "    portfolio['positions'] = signals['position']\n",
        "    for idx in range(len(signals)):\n",
        "        #buy posn\n",
        "        if signals['position'][idx] == 1:\n",
        "            shares = initial_cap*share_ratio // signals['Close'][idx]\n",
        "            initial_cap = initial_cap - shares*signals['Close'][idx]\n",
        "            if idx != 0:\n",
        "                portfolio['shares'][idx] = portfolio['shares'][idx-1] + shares\n",
        "            else:\n",
        "                portfolio['shares'][idx] = shares\n",
        "\n",
        "        #sell posn\n",
        "        elif signals['position'][idx] == -1 and num_shares <= portfolio['shares'][idx-1] and idx > 0:\n",
        "            initial_cap = initial_cap + num_shares*signals['Close'][idx]\n",
        "            portfolio['shares'][idx] = portfolio['shares'][idx-1] - num_shares\n",
        "\n",
        "        #hold posn\n",
        "        elif signals['position'][idx] == 0:\n",
        "            portfolio['shares'][idx] = portfolio['shares'][idx-1]\n",
        "\n",
        "        portfolio['cash'][idx] = initial_cap\n",
        "        portfolio['holdings'][idx] = portfolio['shares'][idx]*signals['Close'][idx]\n",
        "        portfolio['total'][idx] = portfolio['cash'][idx] + portfolio['holdings'][idx]\n",
        "    portfolio['returns'] = portfolio['total'].pct_change()\n",
        "    return portfolio"
      ],
      "metadata": {
        "id": "qgjk9HrJVwCO"
      },
      "execution_count": null,
      "outputs": []
    },
    {
      "cell_type": "code",
      "source": [
        "def sharpe_ratio(portfolio, risk_free_rate):\n",
        "    avg_return = np.mean(portfolio['returns'])\n",
        "    std_dev = np.std(portfolio['returns'])\n",
        "    sharpe = (avg_return - risk_free_rate) / std_dev\n",
        "    return sharpe"
      ],
      "metadata": {
        "id": "WAWLJPuJXcnr"
      },
      "execution_count": null,
      "outputs": []
    },
    {
      "cell_type": "code",
      "source": [
        "def beta(portfolio, benchmark):\n",
        "    covariance = np.cov(portfolio['returns'], benchmark['returns'])\n",
        "    beta = covariance[0,1] / np.var(benchmark['returns'])\n",
        "    return beta"
      ],
      "metadata": {
        "id": "t41EamM3ftW8"
      },
      "execution_count": null,
      "outputs": []
    },
    {
      "cell_type": "code",
      "source": [
        "def alpha(portfolio, benchmark, risk_free_rate):\n",
        "    avg_return = np.mean(portfolio['returns'])\n",
        "    benchmark_avg_return = np.mean(benchmark['returns'])\n",
        "    beta = beta(portfolio, benchmark)\n",
        "    alpha = avg_return - risk_free_rate - beta * (benchmark_avg_return - risk_free_rate)\n",
        "    return alpha"
      ],
      "metadata": {
        "id": "JrASCbdoXg5o"
      },
      "execution_count": null,
      "outputs": []
    },
    {
      "cell_type": "code",
      "source": [
        "def sortino_ratio(portfolio, risk_free_rate):\n",
        "    avg_return = portfolio['returns'].mean()\n",
        "    downside_returns = portfolio['returns'].copy()\n",
        "    downside_returns[downside_returns > 0] = 0\n",
        "    downside_std_dev = downside_returns.std()\n",
        "    sortino = (avg_return - risk_free_rate) / downside_std_dev\n",
        "    return sortino"
      ],
      "metadata": {
        "id": "Ks9ztOrfXjyy"
      },
      "execution_count": null,
      "outputs": []
    },
    {
      "cell_type": "code",
      "source": [
        "def max_drawdown(portfolio):\n",
        "  window = len(portfolio)\n",
        "  rolling_max = portfolio['total'].rolling(window, min_periods=1).max()\n",
        "  daily_drawdown = portfolio['total']/rolling_max - 1.0\n",
        "  max_daily_drawdown = daily_drawdown.rolling(window, min_periods=1).min()\n",
        "  return max_daily_drawdown.min()"
      ],
      "metadata": {
        "id": "33gEEYkmXoCC"
      },
      "execution_count": null,
      "outputs": []
    },
    {
      "cell_type": "code",
      "source": [
        "def calmar_ratio(portfolio):\n",
        "  avg_return = np.mean(portfolio['returns'])\n",
        "  max_draw = max_drawdown(portfolio)\n",
        "  calmar = avg_return / abs(max_draw)\n",
        "  return calmar"
      ],
      "metadata": {
        "id": "4GtI5BiVXpI2"
      },
      "execution_count": null,
      "outputs": []
    },
    {
      "cell_type": "code",
      "source": [
        "def bollinger_bands(portfolio, num_candles):\n",
        "  window = 20\n",
        "  trad\n"
      ],
      "metadata": {
        "id": "Qea8SHLGl6hZ"
      },
      "execution_count": null,
      "outputs": []
    }
  ]
}